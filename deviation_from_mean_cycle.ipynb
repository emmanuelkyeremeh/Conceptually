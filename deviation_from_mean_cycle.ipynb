{
  "nbformat": 4,
  "nbformat_minor": 0,
  "metadata": {
    "colab": {
      "provenance": [],
      "include_colab_link": true
    },
    "kernelspec": {
      "name": "python3",
      "display_name": "Python 3"
    },
    "language_info": {
      "name": "python"
    }
  },
  "cells": [
    {
      "cell_type": "markdown",
      "metadata": {
        "id": "view-in-github",
        "colab_type": "text"
      },
      "source": [
        "<a href=\"https://colab.research.google.com/github/emmanuelkyeremeh/Conceptually/blob/master/deviation_from_mean_cycle.ipynb\" target=\"_parent\"><img src=\"https://colab.research.google.com/assets/colab-badge.svg\" alt=\"Open In Colab\"/></a>"
      ]
    },
    {
      "cell_type": "markdown",
      "source": [
        "# Setup"
      ],
      "metadata": {
        "id": "37RTj9yIxOnF"
      }
    },
    {
      "cell_type": "markdown",
      "source": [
        "## Drive"
      ],
      "metadata": {
        "id": "VyWIS5A6yTYm"
      }
    },
    {
      "cell_type": "code",
      "source": [
        "from google.colab import drive\n",
        "drive.mount('/content/drive')\n",
        "%cd '/content/drive/MyDrive/QFHD'"
      ],
      "metadata": {
        "colab": {
          "base_uri": "https://localhost:8080/"
        },
        "id": "coEU9XqU31hG",
        "outputId": "7116c0db-0fa9-4664-cae9-d573b6acfc88"
      },
      "execution_count": 1,
      "outputs": [
        {
          "output_type": "stream",
          "name": "stdout",
          "text": [
            "Drive already mounted at /content/drive; to attempt to forcibly remount, call drive.mount(\"/content/drive\", force_remount=True).\n",
            "/content/drive/.shortcut-targets-by-id/1zgbI4HtAh4L5VsbEGVeF9fSUylAVhvLx/QFHD\n"
          ]
        }
      ]
    },
    {
      "cell_type": "code",
      "source": [
        "!pip install catboost"
      ],
      "metadata": {
        "id": "ojVOl4BMgwed",
        "colab": {
          "base_uri": "https://localhost:8080/"
        },
        "outputId": "446075c6-4c17-4dd9-9289-f1eaff61ccb4"
      },
      "execution_count": 2,
      "outputs": [
        {
          "output_type": "stream",
          "name": "stdout",
          "text": [
            "Requirement already satisfied: catboost in /usr/local/lib/python3.10/dist-packages (1.2.5)\n",
            "Requirement already satisfied: graphviz in /usr/local/lib/python3.10/dist-packages (from catboost) (0.20.3)\n",
            "Requirement already satisfied: matplotlib in /usr/local/lib/python3.10/dist-packages (from catboost) (3.7.1)\n",
            "Requirement already satisfied: numpy>=1.16.0 in /usr/local/lib/python3.10/dist-packages (from catboost) (1.25.2)\n",
            "Requirement already satisfied: pandas>=0.24 in /usr/local/lib/python3.10/dist-packages (from catboost) (2.0.3)\n",
            "Requirement already satisfied: scipy in /usr/local/lib/python3.10/dist-packages (from catboost) (1.11.4)\n",
            "Requirement already satisfied: plotly in /usr/local/lib/python3.10/dist-packages (from catboost) (5.15.0)\n",
            "Requirement already satisfied: six in /usr/local/lib/python3.10/dist-packages (from catboost) (1.16.0)\n",
            "Requirement already satisfied: python-dateutil>=2.8.2 in /usr/local/lib/python3.10/dist-packages (from pandas>=0.24->catboost) (2.8.2)\n",
            "Requirement already satisfied: pytz>=2020.1 in /usr/local/lib/python3.10/dist-packages (from pandas>=0.24->catboost) (2023.4)\n",
            "Requirement already satisfied: tzdata>=2022.1 in /usr/local/lib/python3.10/dist-packages (from pandas>=0.24->catboost) (2024.1)\n",
            "Requirement already satisfied: contourpy>=1.0.1 in /usr/local/lib/python3.10/dist-packages (from matplotlib->catboost) (1.2.1)\n",
            "Requirement already satisfied: cycler>=0.10 in /usr/local/lib/python3.10/dist-packages (from matplotlib->catboost) (0.12.1)\n",
            "Requirement already satisfied: fonttools>=4.22.0 in /usr/local/lib/python3.10/dist-packages (from matplotlib->catboost) (4.53.0)\n",
            "Requirement already satisfied: kiwisolver>=1.0.1 in /usr/local/lib/python3.10/dist-packages (from matplotlib->catboost) (1.4.5)\n",
            "Requirement already satisfied: packaging>=20.0 in /usr/local/lib/python3.10/dist-packages (from matplotlib->catboost) (24.0)\n",
            "Requirement already satisfied: pillow>=6.2.0 in /usr/local/lib/python3.10/dist-packages (from matplotlib->catboost) (9.4.0)\n",
            "Requirement already satisfied: pyparsing>=2.3.1 in /usr/local/lib/python3.10/dist-packages (from matplotlib->catboost) (3.1.2)\n",
            "Requirement already satisfied: tenacity>=6.2.0 in /usr/local/lib/python3.10/dist-packages (from plotly->catboost) (8.3.0)\n"
          ]
        }
      ]
    },
    {
      "cell_type": "code",
      "source": [
        "!pip install tsai"
      ],
      "metadata": {
        "id": "wXyzIo2ie5Cl",
        "colab": {
          "base_uri": "https://localhost:8080/"
        },
        "outputId": "671e7367-5012-41e0-c18a-1f93e1ab1e0b"
      },
      "execution_count": 4,
      "outputs": [
        {
          "output_type": "stream",
          "name": "stdout",
          "text": [
            "Collecting tsai\n",
            "  Downloading tsai-0.3.9-py3-none-any.whl (324 kB)\n",
            "\u001b[?25l     \u001b[90m━━━━━━━━━━━━━━━━━━━━━━━━━━━━━━━━━━━━━━━━\u001b[0m \u001b[32m0.0/324.3 kB\u001b[0m \u001b[31m?\u001b[0m eta \u001b[36m-:--:--\u001b[0m\r\u001b[2K     \u001b[91m━━━━━━━━━━━━━━━━━━━━━\u001b[0m\u001b[90m╺\u001b[0m\u001b[90m━━━━━━━━━━━━━━━━━━\u001b[0m \u001b[32m174.1/324.3 kB\u001b[0m \u001b[31m5.2 MB/s\u001b[0m eta \u001b[36m0:00:01\u001b[0m\r\u001b[2K     \u001b[90m━━━━━━━━━━━━━━━━━━━━━━━━━━━━━━━━━━━━━━━━\u001b[0m \u001b[32m324.3/324.3 kB\u001b[0m \u001b[31m5.6 MB/s\u001b[0m eta \u001b[36m0:00:00\u001b[0m\n",
            "\u001b[?25hRequirement already satisfied: fastai>=2.7.14 in /usr/local/lib/python3.10/dist-packages (from tsai) (2.7.15)\n",
            "Collecting pyts>=0.12.0 (from tsai)\n",
            "  Downloading pyts-0.13.0-py3-none-any.whl (2.5 MB)\n",
            "\u001b[2K     \u001b[90m━━━━━━━━━━━━━━━━━━━━━━━━━━━━━━━━━━━━━━━━\u001b[0m \u001b[32m2.5/2.5 MB\u001b[0m \u001b[31m14.9 MB/s\u001b[0m eta \u001b[36m0:00:00\u001b[0m\n",
            "\u001b[?25hCollecting imbalanced-learn>=0.11.0 (from tsai)\n",
            "  Downloading imbalanced_learn-0.12.3-py3-none-any.whl (258 kB)\n",
            "\u001b[2K     \u001b[90m━━━━━━━━━━━━━━━━━━━━━━━━━━━━━━━━━━━━━━━━\u001b[0m \u001b[32m258.3/258.3 kB\u001b[0m \u001b[31m15.9 MB/s\u001b[0m eta \u001b[36m0:00:00\u001b[0m\n",
            "\u001b[?25hRequirement already satisfied: psutil>=5.4.8 in /usr/local/lib/python3.10/dist-packages (from tsai) (5.9.5)\n",
            "Requirement already satisfied: scikit-learn>=1.2 in /usr/local/lib/python3.10/dist-packages (from tsai) (1.2.2)\n",
            "Collecting torch<2.3,>=1.10 (from tsai)\n",
            "  Downloading torch-2.2.2-cp310-cp310-manylinux1_x86_64.whl (755.5 MB)\n",
            "\u001b[2K     \u001b[90m━━━━━━━━━━━━━━━━━━━━━━━━━━━━━━━━━━━━━━━━\u001b[0m \u001b[32m755.5/755.5 MB\u001b[0m \u001b[31m1.5 MB/s\u001b[0m eta \u001b[36m0:00:00\u001b[0m\n",
            "\u001b[?25hRequirement already satisfied: pip in /usr/local/lib/python3.10/dist-packages (from fastai>=2.7.14->tsai) (23.1.2)\n",
            "Requirement already satisfied: packaging in /usr/local/lib/python3.10/dist-packages (from fastai>=2.7.14->tsai) (24.0)\n",
            "Requirement already satisfied: fastdownload<2,>=0.0.5 in /usr/local/lib/python3.10/dist-packages (from fastai>=2.7.14->tsai) (0.0.7)\n",
            "Requirement already satisfied: fastcore<1.6,>=1.5.29 in /usr/local/lib/python3.10/dist-packages (from fastai>=2.7.14->tsai) (1.5.43)\n",
            "Requirement already satisfied: torchvision>=0.11 in /usr/local/lib/python3.10/dist-packages (from fastai>=2.7.14->tsai) (0.18.0+cu121)\n",
            "Requirement already satisfied: matplotlib in /usr/local/lib/python3.10/dist-packages (from fastai>=2.7.14->tsai) (3.7.1)\n",
            "Requirement already satisfied: pandas in /usr/local/lib/python3.10/dist-packages (from fastai>=2.7.14->tsai) (2.0.3)\n",
            "Requirement already satisfied: requests in /usr/local/lib/python3.10/dist-packages (from fastai>=2.7.14->tsai) (2.31.0)\n",
            "Requirement already satisfied: pyyaml in /usr/local/lib/python3.10/dist-packages (from fastai>=2.7.14->tsai) (6.0.1)\n",
            "Requirement already satisfied: fastprogress>=0.2.4 in /usr/local/lib/python3.10/dist-packages (from fastai>=2.7.14->tsai) (1.0.3)\n",
            "Requirement already satisfied: pillow>=9.0.0 in /usr/local/lib/python3.10/dist-packages (from fastai>=2.7.14->tsai) (9.4.0)\n",
            "Requirement already satisfied: scipy in /usr/local/lib/python3.10/dist-packages (from fastai>=2.7.14->tsai) (1.11.4)\n",
            "Requirement already satisfied: spacy<4 in /usr/local/lib/python3.10/dist-packages (from fastai>=2.7.14->tsai) (3.7.4)\n",
            "Requirement already satisfied: numpy>=1.17.3 in /usr/local/lib/python3.10/dist-packages (from imbalanced-learn>=0.11.0->tsai) (1.25.2)\n",
            "Requirement already satisfied: joblib>=1.1.1 in /usr/local/lib/python3.10/dist-packages (from imbalanced-learn>=0.11.0->tsai) (1.4.2)\n",
            "Requirement already satisfied: threadpoolctl>=2.0.0 in /usr/local/lib/python3.10/dist-packages (from imbalanced-learn>=0.11.0->tsai) (3.5.0)\n",
            "Requirement already satisfied: numba>=0.55.2 in /usr/local/lib/python3.10/dist-packages (from pyts>=0.12.0->tsai) (0.58.1)\n",
            "Requirement already satisfied: filelock in /usr/local/lib/python3.10/dist-packages (from torch<2.3,>=1.10->tsai) (3.14.0)\n",
            "Requirement already satisfied: typing-extensions>=4.8.0 in /usr/local/lib/python3.10/dist-packages (from torch<2.3,>=1.10->tsai) (4.12.1)\n",
            "Requirement already satisfied: sympy in /usr/local/lib/python3.10/dist-packages (from torch<2.3,>=1.10->tsai) (1.12.1)\n",
            "Requirement already satisfied: networkx in /usr/local/lib/python3.10/dist-packages (from torch<2.3,>=1.10->tsai) (3.3)\n",
            "Requirement already satisfied: jinja2 in /usr/local/lib/python3.10/dist-packages (from torch<2.3,>=1.10->tsai) (3.1.4)\n",
            "Requirement already satisfied: fsspec in /usr/local/lib/python3.10/dist-packages (from torch<2.3,>=1.10->tsai) (2023.6.0)\n",
            "Collecting nvidia-cuda-nvrtc-cu12==12.1.105 (from torch<2.3,>=1.10->tsai)\n",
            "  Using cached nvidia_cuda_nvrtc_cu12-12.1.105-py3-none-manylinux1_x86_64.whl (23.7 MB)\n",
            "Collecting nvidia-cuda-runtime-cu12==12.1.105 (from torch<2.3,>=1.10->tsai)\n",
            "  Using cached nvidia_cuda_runtime_cu12-12.1.105-py3-none-manylinux1_x86_64.whl (823 kB)\n",
            "Collecting nvidia-cuda-cupti-cu12==12.1.105 (from torch<2.3,>=1.10->tsai)\n",
            "  Using cached nvidia_cuda_cupti_cu12-12.1.105-py3-none-manylinux1_x86_64.whl (14.1 MB)\n",
            "Collecting nvidia-cudnn-cu12==8.9.2.26 (from torch<2.3,>=1.10->tsai)\n",
            "  Using cached nvidia_cudnn_cu12-8.9.2.26-py3-none-manylinux1_x86_64.whl (731.7 MB)\n",
            "Collecting nvidia-cublas-cu12==12.1.3.1 (from torch<2.3,>=1.10->tsai)\n",
            "  Using cached nvidia_cublas_cu12-12.1.3.1-py3-none-manylinux1_x86_64.whl (410.6 MB)\n",
            "Collecting nvidia-cufft-cu12==11.0.2.54 (from torch<2.3,>=1.10->tsai)\n",
            "  Using cached nvidia_cufft_cu12-11.0.2.54-py3-none-manylinux1_x86_64.whl (121.6 MB)\n",
            "Collecting nvidia-curand-cu12==10.3.2.106 (from torch<2.3,>=1.10->tsai)\n",
            "  Using cached nvidia_curand_cu12-10.3.2.106-py3-none-manylinux1_x86_64.whl (56.5 MB)\n",
            "Collecting nvidia-cusolver-cu12==11.4.5.107 (from torch<2.3,>=1.10->tsai)\n",
            "  Using cached nvidia_cusolver_cu12-11.4.5.107-py3-none-manylinux1_x86_64.whl (124.2 MB)\n",
            "Collecting nvidia-cusparse-cu12==12.1.0.106 (from torch<2.3,>=1.10->tsai)\n",
            "  Using cached nvidia_cusparse_cu12-12.1.0.106-py3-none-manylinux1_x86_64.whl (196.0 MB)\n",
            "Collecting nvidia-nccl-cu12==2.19.3 (from torch<2.3,>=1.10->tsai)\n",
            "  Downloading nvidia_nccl_cu12-2.19.3-py3-none-manylinux1_x86_64.whl (166.0 MB)\n",
            "\u001b[2K     \u001b[90m━━━━━━━━━━━━━━━━━━━━━━━━━━━━━━━━━━━━━━━━\u001b[0m \u001b[32m166.0/166.0 MB\u001b[0m \u001b[31m2.3 MB/s\u001b[0m eta \u001b[36m0:00:00\u001b[0m\n",
            "\u001b[?25hCollecting nvidia-nvtx-cu12==12.1.105 (from torch<2.3,>=1.10->tsai)\n",
            "  Using cached nvidia_nvtx_cu12-12.1.105-py3-none-manylinux1_x86_64.whl (99 kB)\n",
            "Collecting triton==2.2.0 (from torch<2.3,>=1.10->tsai)\n",
            "  Downloading triton-2.2.0-cp310-cp310-manylinux_2_17_x86_64.manylinux2014_x86_64.whl (167.9 MB)\n",
            "\u001b[2K     \u001b[90m━━━━━━━━━━━━━━━━━━━━━━━━━━━━━━━━━━━━━━━━\u001b[0m \u001b[32m167.9/167.9 MB\u001b[0m \u001b[31m5.3 MB/s\u001b[0m eta \u001b[36m0:00:00\u001b[0m\n",
            "\u001b[?25hCollecting nvidia-nvjitlink-cu12 (from nvidia-cusolver-cu12==11.4.5.107->torch<2.3,>=1.10->tsai)\n",
            "  Downloading nvidia_nvjitlink_cu12-12.5.40-py3-none-manylinux2014_x86_64.whl (21.3 MB)\n",
            "\u001b[2K     \u001b[90m━━━━━━━━━━━━━━━━━━━━━━━━━━━━━━━━━━━━━━━━\u001b[0m \u001b[32m21.3/21.3 MB\u001b[0m \u001b[31m52.9 MB/s\u001b[0m eta \u001b[36m0:00:00\u001b[0m\n",
            "\u001b[?25hRequirement already satisfied: llvmlite<0.42,>=0.41.0dev0 in /usr/local/lib/python3.10/dist-packages (from numba>=0.55.2->pyts>=0.12.0->tsai) (0.41.1)\n",
            "Requirement already satisfied: spacy-legacy<3.1.0,>=3.0.11 in /usr/local/lib/python3.10/dist-packages (from spacy<4->fastai>=2.7.14->tsai) (3.0.12)\n",
            "Requirement already satisfied: spacy-loggers<2.0.0,>=1.0.0 in /usr/local/lib/python3.10/dist-packages (from spacy<4->fastai>=2.7.14->tsai) (1.0.5)\n",
            "Requirement already satisfied: murmurhash<1.1.0,>=0.28.0 in /usr/local/lib/python3.10/dist-packages (from spacy<4->fastai>=2.7.14->tsai) (1.0.10)\n",
            "Requirement already satisfied: cymem<2.1.0,>=2.0.2 in /usr/local/lib/python3.10/dist-packages (from spacy<4->fastai>=2.7.14->tsai) (2.0.8)\n",
            "Requirement already satisfied: preshed<3.1.0,>=3.0.2 in /usr/local/lib/python3.10/dist-packages (from spacy<4->fastai>=2.7.14->tsai) (3.0.9)\n",
            "Requirement already satisfied: thinc<8.3.0,>=8.2.2 in /usr/local/lib/python3.10/dist-packages (from spacy<4->fastai>=2.7.14->tsai) (8.2.3)\n",
            "Requirement already satisfied: wasabi<1.2.0,>=0.9.1 in /usr/local/lib/python3.10/dist-packages (from spacy<4->fastai>=2.7.14->tsai) (1.1.3)\n",
            "Requirement already satisfied: srsly<3.0.0,>=2.4.3 in /usr/local/lib/python3.10/dist-packages (from spacy<4->fastai>=2.7.14->tsai) (2.4.8)\n",
            "Requirement already satisfied: catalogue<2.1.0,>=2.0.6 in /usr/local/lib/python3.10/dist-packages (from spacy<4->fastai>=2.7.14->tsai) (2.0.10)\n",
            "Requirement already satisfied: weasel<0.4.0,>=0.1.0 in /usr/local/lib/python3.10/dist-packages (from spacy<4->fastai>=2.7.14->tsai) (0.3.4)\n",
            "Requirement already satisfied: typer<0.10.0,>=0.3.0 in /usr/local/lib/python3.10/dist-packages (from spacy<4->fastai>=2.7.14->tsai) (0.9.4)\n",
            "Requirement already satisfied: smart-open<7.0.0,>=5.2.1 in /usr/local/lib/python3.10/dist-packages (from spacy<4->fastai>=2.7.14->tsai) (6.4.0)\n",
            "Requirement already satisfied: tqdm<5.0.0,>=4.38.0 in /usr/local/lib/python3.10/dist-packages (from spacy<4->fastai>=2.7.14->tsai) (4.66.4)\n",
            "Requirement already satisfied: pydantic!=1.8,!=1.8.1,<3.0.0,>=1.7.4 in /usr/local/lib/python3.10/dist-packages (from spacy<4->fastai>=2.7.14->tsai) (2.7.3)\n",
            "Requirement already satisfied: setuptools in /usr/local/lib/python3.10/dist-packages (from spacy<4->fastai>=2.7.14->tsai) (67.7.2)\n",
            "Requirement already satisfied: langcodes<4.0.0,>=3.2.0 in /usr/local/lib/python3.10/dist-packages (from spacy<4->fastai>=2.7.14->tsai) (3.4.0)\n",
            "Requirement already satisfied: charset-normalizer<4,>=2 in /usr/local/lib/python3.10/dist-packages (from requests->fastai>=2.7.14->tsai) (3.3.2)\n",
            "Requirement already satisfied: idna<4,>=2.5 in /usr/local/lib/python3.10/dist-packages (from requests->fastai>=2.7.14->tsai) (3.7)\n",
            "Requirement already satisfied: urllib3<3,>=1.21.1 in /usr/local/lib/python3.10/dist-packages (from requests->fastai>=2.7.14->tsai) (2.0.7)\n",
            "Requirement already satisfied: certifi>=2017.4.17 in /usr/local/lib/python3.10/dist-packages (from requests->fastai>=2.7.14->tsai) (2024.6.2)\n",
            "INFO: pip is looking at multiple versions of torchvision to determine which version is compatible with other requirements. This could take a while.\n",
            "Collecting torchvision>=0.11 (from fastai>=2.7.14->tsai)\n",
            "  Downloading torchvision-0.18.1-cp310-cp310-manylinux1_x86_64.whl (7.0 MB)\n",
            "\u001b[2K     \u001b[90m━━━━━━━━━━━━━━━━━━━━━━━━━━━━━━━━━━━━━━━━\u001b[0m \u001b[32m7.0/7.0 MB\u001b[0m \u001b[31m94.6 MB/s\u001b[0m eta \u001b[36m0:00:00\u001b[0m\n",
            "\u001b[?25h  Downloading torchvision-0.18.0-cp310-cp310-manylinux1_x86_64.whl (7.0 MB)\n",
            "\u001b[2K     \u001b[90m━━━━━━━━━━━━━━━━━━━━━━━━━━━━━━━━━━━━━━━━\u001b[0m \u001b[32m7.0/7.0 MB\u001b[0m \u001b[31m90.4 MB/s\u001b[0m eta \u001b[36m0:00:00\u001b[0m\n",
            "\u001b[?25h  Downloading torchvision-0.17.2-cp310-cp310-manylinux1_x86_64.whl (6.9 MB)\n",
            "\u001b[2K     \u001b[90m━━━━━━━━━━━━━━━━━━━━━━━━━━━━━━━━━━━━━━━━\u001b[0m \u001b[32m6.9/6.9 MB\u001b[0m \u001b[31m96.5 MB/s\u001b[0m eta \u001b[36m0:00:00\u001b[0m\n",
            "\u001b[?25hRequirement already satisfied: MarkupSafe>=2.0 in /usr/local/lib/python3.10/dist-packages (from jinja2->torch<2.3,>=1.10->tsai) (2.1.5)\n",
            "Requirement already satisfied: contourpy>=1.0.1 in /usr/local/lib/python3.10/dist-packages (from matplotlib->fastai>=2.7.14->tsai) (1.2.1)\n",
            "Requirement already satisfied: cycler>=0.10 in /usr/local/lib/python3.10/dist-packages (from matplotlib->fastai>=2.7.14->tsai) (0.12.1)\n",
            "Requirement already satisfied: fonttools>=4.22.0 in /usr/local/lib/python3.10/dist-packages (from matplotlib->fastai>=2.7.14->tsai) (4.53.0)\n",
            "Requirement already satisfied: kiwisolver>=1.0.1 in /usr/local/lib/python3.10/dist-packages (from matplotlib->fastai>=2.7.14->tsai) (1.4.5)\n",
            "Requirement already satisfied: pyparsing>=2.3.1 in /usr/local/lib/python3.10/dist-packages (from matplotlib->fastai>=2.7.14->tsai) (3.1.2)\n",
            "Requirement already satisfied: python-dateutil>=2.7 in /usr/local/lib/python3.10/dist-packages (from matplotlib->fastai>=2.7.14->tsai) (2.8.2)\n",
            "Requirement already satisfied: pytz>=2020.1 in /usr/local/lib/python3.10/dist-packages (from pandas->fastai>=2.7.14->tsai) (2023.4)\n",
            "Requirement already satisfied: tzdata>=2022.1 in /usr/local/lib/python3.10/dist-packages (from pandas->fastai>=2.7.14->tsai) (2024.1)\n",
            "Requirement already satisfied: mpmath<1.4.0,>=1.1.0 in /usr/local/lib/python3.10/dist-packages (from sympy->torch<2.3,>=1.10->tsai) (1.3.0)\n",
            "Requirement already satisfied: language-data>=1.2 in /usr/local/lib/python3.10/dist-packages (from langcodes<4.0.0,>=3.2.0->spacy<4->fastai>=2.7.14->tsai) (1.2.0)\n",
            "Requirement already satisfied: annotated-types>=0.4.0 in /usr/local/lib/python3.10/dist-packages (from pydantic!=1.8,!=1.8.1,<3.0.0,>=1.7.4->spacy<4->fastai>=2.7.14->tsai) (0.7.0)\n",
            "Requirement already satisfied: pydantic-core==2.18.4 in /usr/local/lib/python3.10/dist-packages (from pydantic!=1.8,!=1.8.1,<3.0.0,>=1.7.4->spacy<4->fastai>=2.7.14->tsai) (2.18.4)\n",
            "Requirement already satisfied: six>=1.5 in /usr/local/lib/python3.10/dist-packages (from python-dateutil>=2.7->matplotlib->fastai>=2.7.14->tsai) (1.16.0)\n",
            "Requirement already satisfied: blis<0.8.0,>=0.7.8 in /usr/local/lib/python3.10/dist-packages (from thinc<8.3.0,>=8.2.2->spacy<4->fastai>=2.7.14->tsai) (0.7.11)\n",
            "Requirement already satisfied: confection<1.0.0,>=0.0.1 in /usr/local/lib/python3.10/dist-packages (from thinc<8.3.0,>=8.2.2->spacy<4->fastai>=2.7.14->tsai) (0.1.5)\n",
            "Requirement already satisfied: click<9.0.0,>=7.1.1 in /usr/local/lib/python3.10/dist-packages (from typer<0.10.0,>=0.3.0->spacy<4->fastai>=2.7.14->tsai) (8.1.7)\n",
            "Requirement already satisfied: cloudpathlib<0.17.0,>=0.7.0 in /usr/local/lib/python3.10/dist-packages (from weasel<0.4.0,>=0.1.0->spacy<4->fastai>=2.7.14->tsai) (0.16.0)\n",
            "Requirement already satisfied: marisa-trie>=0.7.7 in /usr/local/lib/python3.10/dist-packages (from language-data>=1.2->langcodes<4.0.0,>=3.2.0->spacy<4->fastai>=2.7.14->tsai) (1.1.1)\n",
            "Installing collected packages: triton, nvidia-nvtx-cu12, nvidia-nvjitlink-cu12, nvidia-nccl-cu12, nvidia-curand-cu12, nvidia-cufft-cu12, nvidia-cuda-runtime-cu12, nvidia-cuda-nvrtc-cu12, nvidia-cuda-cupti-cu12, nvidia-cublas-cu12, nvidia-cusparse-cu12, nvidia-cudnn-cu12, pyts, nvidia-cusolver-cu12, imbalanced-learn, torch, torchvision, tsai\n",
            "  Attempting uninstall: triton\n",
            "    Found existing installation: triton 2.3.0\n",
            "    Uninstalling triton-2.3.0:\n",
            "      Successfully uninstalled triton-2.3.0\n",
            "  Attempting uninstall: imbalanced-learn\n",
            "    Found existing installation: imbalanced-learn 0.10.1\n",
            "    Uninstalling imbalanced-learn-0.10.1:\n",
            "      Successfully uninstalled imbalanced-learn-0.10.1\n",
            "  Attempting uninstall: torch\n",
            "    Found existing installation: torch 2.3.0+cu121\n",
            "    Uninstalling torch-2.3.0+cu121:\n",
            "      Successfully uninstalled torch-2.3.0+cu121\n",
            "  Attempting uninstall: torchvision\n",
            "    Found existing installation: torchvision 0.18.0+cu121\n",
            "    Uninstalling torchvision-0.18.0+cu121:\n",
            "      Successfully uninstalled torchvision-0.18.0+cu121\n",
            "\u001b[31mERROR: pip's dependency resolver does not currently take into account all the packages that are installed. This behaviour is the source of the following dependency conflicts.\n",
            "torchaudio 2.3.0+cu121 requires torch==2.3.0, but you have torch 2.2.2 which is incompatible.\n",
            "torchtext 0.18.0 requires torch>=2.3.0, but you have torch 2.2.2 which is incompatible.\u001b[0m\u001b[31m\n",
            "\u001b[0mSuccessfully installed imbalanced-learn-0.12.3 nvidia-cublas-cu12-12.1.3.1 nvidia-cuda-cupti-cu12-12.1.105 nvidia-cuda-nvrtc-cu12-12.1.105 nvidia-cuda-runtime-cu12-12.1.105 nvidia-cudnn-cu12-8.9.2.26 nvidia-cufft-cu12-11.0.2.54 nvidia-curand-cu12-10.3.2.106 nvidia-cusolver-cu12-11.4.5.107 nvidia-cusparse-cu12-12.1.0.106 nvidia-nccl-cu12-2.19.3 nvidia-nvjitlink-cu12-12.5.40 nvidia-nvtx-cu12-12.1.105 pyts-0.13.0 torch-2.2.2 torchvision-0.17.2 triton-2.2.0 tsai-0.3.9\n"
          ]
        }
      ]
    },
    {
      "cell_type": "code",
      "source": [
        "!pip install emd"
      ],
      "metadata": {
        "id": "GgDQlhXjMx4E",
        "colab": {
          "base_uri": "https://localhost:8080/"
        },
        "outputId": "0866c4c0-7814-45bf-ff8c-e5a0581a9be8"
      },
      "execution_count": 3,
      "outputs": [
        {
          "output_type": "stream",
          "name": "stdout",
          "text": [
            "Collecting emd\n",
            "  Downloading emd-0.7.0-py2.py3-none-any.whl (85 kB)\n",
            "\u001b[?25l     \u001b[90m━━━━━━━━━━━━━━━━━━━━━━━━━━━━━━━━━━━━━━━━\u001b[0m \u001b[32m0.0/85.3 kB\u001b[0m \u001b[31m?\u001b[0m eta \u001b[36m-:--:--\u001b[0m\r\u001b[2K     \u001b[90m━━━━━━━━━━━━━━━━━━━━━━━━━━━━━━━━━━━━━━━━\u001b[0m \u001b[32m85.3/85.3 kB\u001b[0m \u001b[31m3.1 MB/s\u001b[0m eta \u001b[36m0:00:00\u001b[0m\n",
            "\u001b[?25hRequirement already satisfied: numpy>=1.19.3 in /usr/local/lib/python3.10/dist-packages (from emd) (1.25.2)\n",
            "Requirement already satisfied: scipy in /usr/local/lib/python3.10/dist-packages (from emd) (1.11.4)\n",
            "Collecting sparse (from emd)\n",
            "  Downloading sparse-0.15.4-py2.py3-none-any.whl (237 kB)\n",
            "\u001b[2K     \u001b[90m━━━━━━━━━━━━━━━━━━━━━━━━━━━━━━━━━━━━━━━━\u001b[0m \u001b[32m237.3/237.3 kB\u001b[0m \u001b[31m7.5 MB/s\u001b[0m eta \u001b[36m0:00:00\u001b[0m\n",
            "\u001b[?25hRequirement already satisfied: matplotlib in /usr/local/lib/python3.10/dist-packages (from emd) (3.7.1)\n",
            "Requirement already satisfied: pandas in /usr/local/lib/python3.10/dist-packages (from emd) (2.0.3)\n",
            "Requirement already satisfied: pyyaml>=5.1 in /usr/local/lib/python3.10/dist-packages (from emd) (6.0.1)\n",
            "Requirement already satisfied: joblib in /usr/local/lib/python3.10/dist-packages (from emd) (1.4.2)\n",
            "Requirement already satisfied: tabulate in /usr/local/lib/python3.10/dist-packages (from emd) (0.9.0)\n",
            "Collecting dcor (from emd)\n",
            "  Downloading dcor-0.6-py3-none-any.whl (55 kB)\n",
            "\u001b[2K     \u001b[90m━━━━━━━━━━━━━━━━━━━━━━━━━━━━━━━━━━━━━━━━\u001b[0m \u001b[32m55.5/55.5 kB\u001b[0m \u001b[31m6.2 MB/s\u001b[0m eta \u001b[36m0:00:00\u001b[0m\n",
            "\u001b[?25hRequirement already satisfied: numba>=0.51 in /usr/local/lib/python3.10/dist-packages (from dcor->emd) (0.58.1)\n",
            "Requirement already satisfied: contourpy>=1.0.1 in /usr/local/lib/python3.10/dist-packages (from matplotlib->emd) (1.2.1)\n",
            "Requirement already satisfied: cycler>=0.10 in /usr/local/lib/python3.10/dist-packages (from matplotlib->emd) (0.12.1)\n",
            "Requirement already satisfied: fonttools>=4.22.0 in /usr/local/lib/python3.10/dist-packages (from matplotlib->emd) (4.53.0)\n",
            "Requirement already satisfied: kiwisolver>=1.0.1 in /usr/local/lib/python3.10/dist-packages (from matplotlib->emd) (1.4.5)\n",
            "Requirement already satisfied: packaging>=20.0 in /usr/local/lib/python3.10/dist-packages (from matplotlib->emd) (24.0)\n",
            "Requirement already satisfied: pillow>=6.2.0 in /usr/local/lib/python3.10/dist-packages (from matplotlib->emd) (9.4.0)\n",
            "Requirement already satisfied: pyparsing>=2.3.1 in /usr/local/lib/python3.10/dist-packages (from matplotlib->emd) (3.1.2)\n",
            "Requirement already satisfied: python-dateutil>=2.7 in /usr/local/lib/python3.10/dist-packages (from matplotlib->emd) (2.8.2)\n",
            "Requirement already satisfied: pytz>=2020.1 in /usr/local/lib/python3.10/dist-packages (from pandas->emd) (2023.4)\n",
            "Requirement already satisfied: tzdata>=2022.1 in /usr/local/lib/python3.10/dist-packages (from pandas->emd) (2024.1)\n",
            "Requirement already satisfied: llvmlite<0.42,>=0.41.0dev0 in /usr/local/lib/python3.10/dist-packages (from numba>=0.51->dcor->emd) (0.41.1)\n",
            "Requirement already satisfied: six>=1.5 in /usr/local/lib/python3.10/dist-packages (from python-dateutil>=2.7->matplotlib->emd) (1.16.0)\n",
            "Installing collected packages: sparse, dcor, emd\n",
            "Successfully installed dcor-0.6 emd-0.7.0 sparse-0.15.4\n"
          ]
        }
      ]
    },
    {
      "cell_type": "code",
      "source": [
        "!pip install omegaconf"
      ],
      "metadata": {
        "colab": {
          "base_uri": "https://localhost:8080/",
          "height": 393
        },
        "id": "9bhNyvUO8wCV",
        "outputId": "8428d46a-9f0f-4743-bf64-fab4a57abdf2"
      },
      "execution_count": 5,
      "outputs": [
        {
          "output_type": "stream",
          "name": "stdout",
          "text": [
            "Collecting omegaconf\n",
            "  Downloading omegaconf-2.3.0-py3-none-any.whl (79 kB)\n",
            "\u001b[?25l     \u001b[90m━━━━━━━━━━━━━━━━━━━━━━━━━━━━━━━━━━━━━━━━\u001b[0m \u001b[32m0.0/79.5 kB\u001b[0m \u001b[31m?\u001b[0m eta \u001b[36m-:--:--\u001b[0m\r\u001b[2K     \u001b[90m━━━━━━━━━━━━━━━━━━━━━━━━━━━━━━━━━━━━━━━━\u001b[0m \u001b[32m79.5/79.5 kB\u001b[0m \u001b[31m2.8 MB/s\u001b[0m eta \u001b[36m0:00:00\u001b[0m\n",
            "\u001b[?25hCollecting antlr4-python3-runtime==4.9.* (from omegaconf)\n",
            "  Downloading antlr4-python3-runtime-4.9.3.tar.gz (117 kB)\n",
            "\u001b[?25l     \u001b[90m━━━━━━━━━━━━━━━━━━━━━━━━━━━━━━━━━━━━━━━━\u001b[0m \u001b[32m0.0/117.0 kB\u001b[0m \u001b[31m?\u001b[0m eta \u001b[36m-:--:--\u001b[0m\r\u001b[2K     \u001b[90m━━━━━━━━━━━━━━━━━━━━━━━━━━━━━━━━━━━━━━━━\u001b[0m \u001b[32m117.0/117.0 kB\u001b[0m \u001b[31m6.3 MB/s\u001b[0m eta \u001b[36m0:00:00\u001b[0m\n",
            "\u001b[?25h  Preparing metadata (setup.py) ... \u001b[?25l\u001b[?25hdone\n",
            "Requirement already satisfied: PyYAML>=5.1.0 in /usr/local/lib/python3.10/dist-packages (from omegaconf) (6.0.1)\n",
            "Building wheels for collected packages: antlr4-python3-runtime\n",
            "  Building wheel for antlr4-python3-runtime (setup.py) ... \u001b[?25l\u001b[?25hdone\n",
            "  Created wheel for antlr4-python3-runtime: filename=antlr4_python3_runtime-4.9.3-py3-none-any.whl size=144554 sha256=a28129a1c7fec6cb336976e655b55f9a5b0bd0fc0f5594d50dc10b7536ba395d\n",
            "  Stored in directory: /root/.cache/pip/wheels/12/93/dd/1f6a127edc45659556564c5730f6d4e300888f4bca2d4c5a88\n",
            "Successfully built antlr4-python3-runtime\n",
            "Installing collected packages: antlr4-python3-runtime, omegaconf\n",
            "Successfully installed antlr4-python3-runtime-4.9.3 omegaconf-2.3.0\n"
          ]
        },
        {
          "output_type": "display_data",
          "data": {
            "application/vnd.colab-display-data+json": {
              "pip_warning": {
                "packages": [
                  "pydevd_plugins"
                ]
              },
              "id": "c32c4bead4bc4491872e264732e44460"
            }
          },
          "metadata": {}
        }
      ]
    },
    {
      "cell_type": "markdown",
      "source": [
        "## Packages"
      ],
      "metadata": {
        "id": "QIv_qAwSxZQp"
      }
    },
    {
      "cell_type": "code",
      "source": [
        "import numpy as np\n",
        "import pandas as pd\n",
        "import matplotlib.pyplot as plt\n",
        "from scipy.signal import find_peaks\n",
        "import re\n",
        "import emd\n",
        "import pickle\n",
        "from sklearn.decomposition import PCA\n",
        "from sklearn.preprocessing import StandardScaler,OneHotEncoder\n",
        "import seaborn as sns\n",
        "from sklearn.model_selection import train_test_split,RandomizedSearchCV\n",
        "import xgboost as xgb\n",
        "from sklearn.metrics import mean_squared_error, mean_absolute_error, r2_score\n",
        "from qf_plus_shared.src.signal_processing import *\n",
        "from qf_plus_development.src.utilities import get_meta_data\n",
        "from catboost import CatBoostRegressor, Pool\n",
        "import sys\n",
        "sys.path.append('/content/drive/MyDrive/QFHD/qf_plus_development/qfhd/src')\n",
        "from qf_plus_development.qfhd.src.preprocessing import preprocess_data"
      ],
      "metadata": {
        "id": "vskCFYof5Jxw"
      },
      "execution_count": 4,
      "outputs": []
    },
    {
      "cell_type": "markdown",
      "source": [
        "# Data"
      ],
      "metadata": {
        "id": "vb5zKZ8yzHpE"
      }
    },
    {
      "cell_type": "code",
      "source": [
        "meta_data_file = get_meta_data('/content/drive/MyDrive/QFHD/metadata3.xlsx')"
      ],
      "metadata": {
        "id": "ip6y5vGuhAGj"
      },
      "execution_count": 5,
      "outputs": []
    },
    {
      "cell_type": "code",
      "source": [
        "pickle_file   = '/content/drive/MyDrive/QFHD/data/preprocessed_24Jan22_134624.p'\n",
        "\n",
        "pickle_data = pd.read_pickle(pickle_file)\n",
        "\n",
        "loaded_data = pickle_data\n",
        "\n",
        "filenames = list(loaded_data['file_data'])\n",
        "filenames.sort()"
      ],
      "metadata": {
        "id": "LEF0PkMghD7P"
      },
      "execution_count": 6,
      "outputs": []
    },
    {
      "cell_type": "markdown",
      "source": [
        "# Feature Extraction"
      ],
      "metadata": {
        "id": "41JZ1Fzn2TNs"
      }
    },
    {
      "cell_type": "markdown",
      "source": [
        "## Create `cycles_dict`"
      ],
      "metadata": {
        "id": "nadPbyj4F4oV"
      }
    },
    {
      "cell_type": "code",
      "source": [
        "def find_closest(my_list):\n",
        "    \"\"\"\n",
        "    This function finds the number within the 2nd and the last element\n",
        "    which is closest in value to the 1st element in the list.\n",
        "\n",
        "    Args:\n",
        "        my_list: A list of integers.\n",
        "\n",
        "    Returns:\n",
        "        The integer within the 2nd and the last element which is closest\n",
        "        in value to the 1st element in the list, or None if the list has less than 3 elements.\n",
        "    \"\"\"\n",
        "    if len(my_list) < 3:\n",
        "      return None  # Not enough elements in the list\n",
        "\n",
        "    first_element = my_list[0]\n",
        "    potential_second = my_list[1]\n",
        "    potential_last = my_list[-1]\n",
        "    distance_second = abs(first_element - potential_second)\n",
        "    distance_last = abs(first_element - potential_last)\n",
        "\n",
        "    # Check the rest of the elements between 2nd and last positions\n",
        "    for i in range(2, len(my_list) - 1):\n",
        "      current_distance = abs(first_element - my_list[i])\n",
        "      if current_distance < distance_second:\n",
        "        distance_second = current_distance\n",
        "        potential_second = my_list[i]\n",
        "      if current_distance < distance_last:\n",
        "        distance_last = current_distance\n",
        "        potential_last = my_list[i]\n",
        "\n",
        "    # Return the closest element based on the minimum distance\n",
        "    if distance_second <= distance_last:\n",
        "      return potential_second\n",
        "    else:\n",
        "      return potential_last"
      ],
      "metadata": {
        "id": "KQov1LIVMQRT"
      },
      "execution_count": null,
      "outputs": []
    },
    {
      "cell_type": "code",
      "source": [
        "cycles_dict = {}\n",
        "for filename in filenames:\n",
        "\n",
        "  cycles_dict[filename] = {\n",
        "        'cycles': None,\n",
        "        'peaks': None,\n",
        "        'troughs': None\n",
        "    }\n",
        "\n",
        "  df = loaded_data['file_data'][filename]['cycle']\n",
        "  ppg_ = df.to_numpy()\n",
        "  ppg = df.to_numpy()\n",
        "  time = df.index.to_numpy()\n",
        "\n",
        "  # Run a mask sift\n",
        "  imf = emd.sift.mask_sift(ppg_)\n",
        "\n",
        "  # ***\n",
        "  # add actual signal to imf variable\n",
        "  ppg = ppg.reshape(-1, 1)\n",
        "  imf = np.hstack((ppg, imf))\n",
        "\n",
        "  # Find number of cycles for actual signal and all IMFs\n",
        "  IP, IF, IA = emd.spectra.frequency_transform(imf, len(time), 'nht')\n",
        "  all_cycles = emd.cycles.get_cycle_vector(IP, return_good=False)\n",
        "\n",
        "  category = []\n",
        "  values   = []\n",
        "  for i in range(imf.shape[1]):\n",
        "    ctrl   = emd.cycles.get_control_points(imf[:, i], all_cycles[:, i])\n",
        "    cycles = len(ctrl)\n",
        "    category.append(f'IMF-{i}')\n",
        "    values.append(cycles)\n",
        "\n",
        "  # *** best IMF based on number of cycles in raw signal\n",
        "  x   = find_closest(values)\n",
        "  idx = values[1:].index(x)\n",
        "\n",
        "\n",
        "  # Sum the first 3 IMFS if the best IMF is one of the first 3 IMFs, otherwise sum the first N IMFs. the N is the best IMF eg. if IMF 5 was\n",
        "  # selected as the best IMF then we sum the first 5 IMFs, if IMF 6 was selected then we sum the first 6 IMFs and so on\n",
        "  if idx < 3: #if the best IMF is one of the first 3, the sum the first 3 IMFs\n",
        "    imf_3_sum = imf[:, 1:4].sum(axis=1)\n",
        "    imf_3_sum = imf_3_sum.reshape(-1, 1)\n",
        "    imf       = np.delete(imf, np.s_[1:4], axis=1) # delete 1st 3 imfs\n",
        "    all_cycles= np.delete(all_cycles, np.s_[1:4], axis=1) # delete 1st 3 all_cycles\n",
        "    # imf       = np.delete(imf, np.s_[0], axis=1) # delete ppg from imf var\n",
        "    imf       = np.hstack((imf_3_sum, imf))\n",
        "  else:\n",
        "    # Sum the first N IMFs\n",
        "    imf_N_sum = imf[:, 1:idx + 2].sum(axis=1) #check\n",
        "    imf_N_sum = imf_N_sum.reshape(-1, 1)\n",
        "    imf       = np.delete(imf, np.s_[1:idx + 2], axis=1) # delete 1st 4 or more ims #check\n",
        "    all_cycles= np.delete(all_cycles, np.s_[1:idx + 2], axis=1) # delete 1st 4 or more all_cycles\n",
        "    # imf       = np.delete(imf, np.s_[0], axis=1) # delete ppg from imf var\n",
        "    imf       = np.hstack((imf_N_sum, imf))\n",
        "\n",
        "  # ***\n",
        "\n",
        "  # Find number of cycles for actual signal and all IMFs\n",
        "  IP_, IF_, IA_ = emd.spectra.frequency_transform(imf, len(time), 'nht')\n",
        "  all_cycles_ = emd.cycles.get_cycle_vector(IP_, return_good=False)\n",
        "\n",
        "  all_cycles  = np.hstack((all_cycles_[:, 0].reshape(-1, 1), all_cycles))\n",
        "\n",
        "  category = []\n",
        "  values   = []\n",
        "  for i in range(imf.shape[1]):\n",
        "    ctrl   = emd.cycles.get_control_points(imf[:, i], all_cycles[:, i])\n",
        "    cycles = len(ctrl)\n",
        "    category.append(f'IMF-{i}')\n",
        "    values.append(cycles)\n",
        "\n",
        "  values[0], values[1] = values[1], values[0]\n",
        "\n",
        "\n",
        "  # ***\n",
        "\n",
        "  # best IMF based on number of cycles in raw signal\n",
        "  x   = find_closest(values)\n",
        "  idx = values[1:].index(x)\n",
        "\n",
        "  # ***\n",
        "\n",
        "  imf       = np.delete(imf, np.s_[1], axis=1) # delete ppg from imf var\n",
        "\n",
        "\n",
        "  ctrl = emd.cycles.get_control_points(imf[:, 0], all_cycles[:, 0])\n",
        "\n",
        "  # Define some marker styles and legend labels for the control points.\n",
        "  markers = ['og', '^b', 'oc', 'vb', 'or']\n",
        "  label   = ['Asc-Start', 'Peak', 'Desc', 'Trough', 'Asc-End']\n",
        "\n",
        "  # Plot the first 10 cycles with control points\n",
        "  ncycles = len(ctrl)\n",
        "  start   = 0\n",
        "\n",
        "  cycles, peaks, troughs = [], [], []\n",
        "  for ii in range(ncycles):\n",
        "      # print('Cycle {0:2d} - {1}'.format(ii, ctrl[ii, :]))\n",
        "      cycle = imf[all_cycles[:, 0] == ii, 0]\n",
        "      # plt.plot(np.arange(len(cycle))+start, cycle, 'k', label='Cycle')         Uncomment lines 148 for plots\n",
        "      # plt.plot(time[start:len(cycle)], cycle, 'k', label='Cycle')\n",
        "      for jj in range(5):\n",
        "          if np.isfinite(ctrl[ii, jj]):\n",
        "              # plt.plot(ctrl[ii, jj]+start, cycle[int(ctrl[ii, jj])], markers[jj], label=label[jj])      Uncomment lines 152 for plots\n",
        "              if jj == 1:\n",
        "                peaks.append(ctrl[ii, jj])\n",
        "              if jj == 3:\n",
        "                troughs.append(ctrl[ii, jj])\n",
        "      cycles.append(cycle)\n",
        "      # Updates the starting position for the next cycle\n",
        "      start += len(cycle)\n",
        "\n",
        "\n",
        "\n",
        "  # store cycles data in dictionary\n",
        "  cycles_dict[filename]['cycles']  = cycles\n",
        "  cycles_dict[filename]['peaks']   = peaks\n",
        "  cycles_dict[filename]['troughs'] = troughs\n",
        "\n"
      ],
      "metadata": {
        "id": "ogaMW8FujS8e"
      },
      "execution_count": null,
      "outputs": []
    },
    {
      "cell_type": "markdown",
      "source": [
        "## Find Deviation and Create Features"
      ],
      "metadata": {
        "id": "GTMS9tHI3GA4"
      }
    },
    {
      "cell_type": "code",
      "source": [
        "# Function to combine cycles for each subject ID\n",
        "def combine_cycles(subject_id, cycles_dict):\n",
        "    combined_cycles = []\n",
        "    N = 200\n",
        "    for signal_id, data in cycles_dict.items():\n",
        "        if signal_id.startswith(subject_id):\n",
        "\n",
        "          # Initialize an empty list for the processed cycles\n",
        "          processed_cycles = []\n",
        "\n",
        "          # Loop over the input cycles\n",
        "          for cycle in data['cycles']:\n",
        "              # Create an interpolation function based on the original cycle\n",
        "              cycle = resample_interp_nb(cycle, N)\n",
        "\n",
        "              # normalize each cycle separately (optional)\n",
        "              mean_value = cycle.mean()\n",
        "              scaling_factor = cycle.max() - cycle.min()\n",
        "              if scaling_factor == 0:\n",
        "                    cycle = np.zeros_like(cycle)\n",
        "              else:\n",
        "                  cycle = (cycle - mean_value) / scaling_factor * 100\n",
        "\n",
        "              # Append the processed cycle to the output list\n",
        "              processed_cycles.append(cycle)\n",
        "          combined_cycles.extend(processed_cycles)\n",
        "    return combined_cycles\n",
        "\n",
        "# Function to calculate mean cycle\n",
        "def calculate_mean_cycle(cycles):\n",
        "    return np.mean(cycles, axis=0)\n",
        "\n",
        "# Function to calculate deviations from mean cycle\n",
        "def calculate_deviations(cycles, mean_cycle):\n",
        "    return cycles - mean_cycle\n",
        "\n",
        "# Function to create features from deviations\n",
        "def create_features(deviations):\n",
        "    features = {\n",
        "        'mean_deviation': np.mean(deviations),\n",
        "        'std_deviation': np.std(deviations),\n",
        "        'max_deviation': np.max(deviations),\n",
        "        'min_deviation': np.min(deviations)\n",
        "    }\n",
        "    return features"
      ],
      "metadata": {
        "id": "kvmWV95_aFmu"
      },
      "execution_count": null,
      "outputs": []
    },
    {
      "cell_type": "markdown",
      "source": [
        "## Prepare Data for Model Training"
      ],
      "metadata": {
        "id": "02ZJn3848Zuy"
      }
    },
    {
      "cell_type": "code",
      "source": [
        "meta_data_file = meta_data_file[(meta_data_file['Use_4_Train']) & (meta_data_file['Strain'].notna())]"
      ],
      "metadata": {
        "id": "Uxd7unRydoND"
      },
      "execution_count": null,
      "outputs": []
    },
    {
      "cell_type": "code",
      "source": [
        "# Process each subject ID\n",
        "subject_ids = list(meta_data_file['Subject_ID'].unique())\n",
        "all_features = []\n",
        "for id in subject_ids:\n",
        "    combined_cycles = combine_cycles(id, cycles_dict)\n",
        "\n",
        "    if len(combined_cycles) > 0:\n",
        "        mean_cycle = calculate_mean_cycle(combined_cycles)\n",
        "        deviations = calculate_deviations(combined_cycles, mean_cycle)\n",
        "        features = create_features(deviations)\n",
        "        features['Subject_ID'] = id\n",
        "        all_features.append(features)\n",
        "\n",
        "# Combine all features into a single DataFrame\n",
        "features_df = pd.DataFrame(all_features).merge(meta_data_file, on='Subject_ID')\n",
        "\n",
        "features_df = features_df.drop(columns=['Use_4_Train','Clinic'])\n",
        "\n",
        "columns_to_encode = ['IsMale', 'Hx_HTN', 'HxCVD','DM','HxSmoke','HxStroke','HxCOPD']\n",
        "df = features_df[columns_to_encode]\n",
        "\n",
        "encoder = OneHotEncoder(handle_unknown='ignore')\n",
        "\n",
        "encoder.fit(df)\n",
        "\n",
        "df_encoded = encoder.transform(df).toarray()\n",
        "\n",
        "column_names = encoder.get_feature_names_out(columns_to_encode)\n",
        "encoded_df = pd.DataFrame(df_encoded, columns=column_names)\n",
        "\n",
        "features_df = pd.concat([features_df, encoded_df], axis=1)\n",
        "\n",
        "features_df = features_df.drop(columns=columns_to_encode)\n",
        "\n",
        "target  = features_df['Strain']\n",
        "\n",
        "features_df = features_df.drop(columns=['Subject_ID', 'Strain','LVEF'])\n",
        "features_df.head()"
      ],
      "metadata": {
        "colab": {
          "base_uri": "https://localhost:8080/",
          "height": 226
        },
        "id": "kAheN6--bvMi",
        "outputId": "80d393a4-1801-46af-9094-6625a4cf36ff"
      },
      "execution_count": null,
      "outputs": [
        {
          "output_type": "execute_result",
          "data": {
            "text/plain": [
              "   mean_deviation  std_deviation  max_deviation  min_deviation        Age  IsMale_False  IsMale_True  Hx_HTN_False  HxCVD_False  HxCVD_True  DM_False  DM_True  HxSmoke_False  HxSmoke_True  HxStroke_False  HxStroke_True  HxCOPD_False  HxCOPD_True\n",
              "0   -4.263256e-16       7.898624     106.711628     -70.040912  76.733333           0.0          1.0           1.0          0.0         1.0       0.0      1.0            0.0           1.0             1.0            0.0           1.0          0.0\n",
              "1   -7.097746e-16       9.916737      92.040929     -78.158063  69.366667           0.0          1.0           1.0          1.0         0.0       0.0      1.0            0.0           1.0             1.0            0.0           0.0          1.0\n",
              "2   -7.884292e-16       9.081062      95.463616     -88.217467  75.800000           0.0          1.0           1.0          0.0         1.0       1.0      0.0            0.0           1.0             1.0            0.0           0.0          1.0\n",
              "3    1.768171e-16       8.778049      63.639400     -99.176335  46.463889           0.0          1.0           1.0          1.0         0.0       1.0      0.0            1.0           0.0             1.0            0.0           1.0          0.0\n",
              "4    3.805619e-16      10.339564      56.060437     -57.954732  62.625000           0.0          1.0           1.0          1.0         0.0       1.0      0.0            0.0           1.0             1.0            0.0           1.0          0.0"
            ],
            "text/html": [
              "\n",
              "  <div id=\"df-27056118-c4ef-4788-a2f5-b55158b559e9\" class=\"colab-df-container\">\n",
              "    <div>\n",
              "<style scoped>\n",
              "    .dataframe tbody tr th:only-of-type {\n",
              "        vertical-align: middle;\n",
              "    }\n",
              "\n",
              "    .dataframe tbody tr th {\n",
              "        vertical-align: top;\n",
              "    }\n",
              "\n",
              "    .dataframe thead th {\n",
              "        text-align: right;\n",
              "    }\n",
              "</style>\n",
              "<table border=\"1\" class=\"dataframe\">\n",
              "  <thead>\n",
              "    <tr style=\"text-align: right;\">\n",
              "      <th></th>\n",
              "      <th>mean_deviation</th>\n",
              "      <th>std_deviation</th>\n",
              "      <th>max_deviation</th>\n",
              "      <th>min_deviation</th>\n",
              "      <th>Age</th>\n",
              "      <th>IsMale_False</th>\n",
              "      <th>IsMale_True</th>\n",
              "      <th>Hx_HTN_False</th>\n",
              "      <th>HxCVD_False</th>\n",
              "      <th>HxCVD_True</th>\n",
              "      <th>DM_False</th>\n",
              "      <th>DM_True</th>\n",
              "      <th>HxSmoke_False</th>\n",
              "      <th>HxSmoke_True</th>\n",
              "      <th>HxStroke_False</th>\n",
              "      <th>HxStroke_True</th>\n",
              "      <th>HxCOPD_False</th>\n",
              "      <th>HxCOPD_True</th>\n",
              "    </tr>\n",
              "  </thead>\n",
              "  <tbody>\n",
              "    <tr>\n",
              "      <th>0</th>\n",
              "      <td>-4.263256e-16</td>\n",
              "      <td>7.898624</td>\n",
              "      <td>106.711628</td>\n",
              "      <td>-70.040912</td>\n",
              "      <td>76.733333</td>\n",
              "      <td>0.0</td>\n",
              "      <td>1.0</td>\n",
              "      <td>1.0</td>\n",
              "      <td>0.0</td>\n",
              "      <td>1.0</td>\n",
              "      <td>0.0</td>\n",
              "      <td>1.0</td>\n",
              "      <td>0.0</td>\n",
              "      <td>1.0</td>\n",
              "      <td>1.0</td>\n",
              "      <td>0.0</td>\n",
              "      <td>1.0</td>\n",
              "      <td>0.0</td>\n",
              "    </tr>\n",
              "    <tr>\n",
              "      <th>1</th>\n",
              "      <td>-7.097746e-16</td>\n",
              "      <td>9.916737</td>\n",
              "      <td>92.040929</td>\n",
              "      <td>-78.158063</td>\n",
              "      <td>69.366667</td>\n",
              "      <td>0.0</td>\n",
              "      <td>1.0</td>\n",
              "      <td>1.0</td>\n",
              "      <td>1.0</td>\n",
              "      <td>0.0</td>\n",
              "      <td>0.0</td>\n",
              "      <td>1.0</td>\n",
              "      <td>0.0</td>\n",
              "      <td>1.0</td>\n",
              "      <td>1.0</td>\n",
              "      <td>0.0</td>\n",
              "      <td>0.0</td>\n",
              "      <td>1.0</td>\n",
              "    </tr>\n",
              "    <tr>\n",
              "      <th>2</th>\n",
              "      <td>-7.884292e-16</td>\n",
              "      <td>9.081062</td>\n",
              "      <td>95.463616</td>\n",
              "      <td>-88.217467</td>\n",
              "      <td>75.800000</td>\n",
              "      <td>0.0</td>\n",
              "      <td>1.0</td>\n",
              "      <td>1.0</td>\n",
              "      <td>0.0</td>\n",
              "      <td>1.0</td>\n",
              "      <td>1.0</td>\n",
              "      <td>0.0</td>\n",
              "      <td>0.0</td>\n",
              "      <td>1.0</td>\n",
              "      <td>1.0</td>\n",
              "      <td>0.0</td>\n",
              "      <td>0.0</td>\n",
              "      <td>1.0</td>\n",
              "    </tr>\n",
              "    <tr>\n",
              "      <th>3</th>\n",
              "      <td>1.768171e-16</td>\n",
              "      <td>8.778049</td>\n",
              "      <td>63.639400</td>\n",
              "      <td>-99.176335</td>\n",
              "      <td>46.463889</td>\n",
              "      <td>0.0</td>\n",
              "      <td>1.0</td>\n",
              "      <td>1.0</td>\n",
              "      <td>1.0</td>\n",
              "      <td>0.0</td>\n",
              "      <td>1.0</td>\n",
              "      <td>0.0</td>\n",
              "      <td>1.0</td>\n",
              "      <td>0.0</td>\n",
              "      <td>1.0</td>\n",
              "      <td>0.0</td>\n",
              "      <td>1.0</td>\n",
              "      <td>0.0</td>\n",
              "    </tr>\n",
              "    <tr>\n",
              "      <th>4</th>\n",
              "      <td>3.805619e-16</td>\n",
              "      <td>10.339564</td>\n",
              "      <td>56.060437</td>\n",
              "      <td>-57.954732</td>\n",
              "      <td>62.625000</td>\n",
              "      <td>0.0</td>\n",
              "      <td>1.0</td>\n",
              "      <td>1.0</td>\n",
              "      <td>1.0</td>\n",
              "      <td>0.0</td>\n",
              "      <td>1.0</td>\n",
              "      <td>0.0</td>\n",
              "      <td>0.0</td>\n",
              "      <td>1.0</td>\n",
              "      <td>1.0</td>\n",
              "      <td>0.0</td>\n",
              "      <td>1.0</td>\n",
              "      <td>0.0</td>\n",
              "    </tr>\n",
              "  </tbody>\n",
              "</table>\n",
              "</div>\n",
              "    <div class=\"colab-df-buttons\">\n",
              "\n",
              "  <div class=\"colab-df-container\">\n",
              "    <button class=\"colab-df-convert\" onclick=\"convertToInteractive('df-27056118-c4ef-4788-a2f5-b55158b559e9')\"\n",
              "            title=\"Convert this dataframe to an interactive table.\"\n",
              "            style=\"display:none;\">\n",
              "\n",
              "  <svg xmlns=\"http://www.w3.org/2000/svg\" height=\"24px\" viewBox=\"0 -960 960 960\">\n",
              "    <path d=\"M120-120v-720h720v720H120Zm60-500h600v-160H180v160Zm220 220h160v-160H400v160Zm0 220h160v-160H400v160ZM180-400h160v-160H180v160Zm440 0h160v-160H620v160ZM180-180h160v-160H180v160Zm440 0h160v-160H620v160Z\"/>\n",
              "  </svg>\n",
              "    </button>\n",
              "\n",
              "  <style>\n",
              "    .colab-df-container {\n",
              "      display:flex;\n",
              "      gap: 12px;\n",
              "    }\n",
              "\n",
              "    .colab-df-convert {\n",
              "      background-color: #E8F0FE;\n",
              "      border: none;\n",
              "      border-radius: 50%;\n",
              "      cursor: pointer;\n",
              "      display: none;\n",
              "      fill: #1967D2;\n",
              "      height: 32px;\n",
              "      padding: 0 0 0 0;\n",
              "      width: 32px;\n",
              "    }\n",
              "\n",
              "    .colab-df-convert:hover {\n",
              "      background-color: #E2EBFA;\n",
              "      box-shadow: 0px 1px 2px rgba(60, 64, 67, 0.3), 0px 1px 3px 1px rgba(60, 64, 67, 0.15);\n",
              "      fill: #174EA6;\n",
              "    }\n",
              "\n",
              "    .colab-df-buttons div {\n",
              "      margin-bottom: 4px;\n",
              "    }\n",
              "\n",
              "    [theme=dark] .colab-df-convert {\n",
              "      background-color: #3B4455;\n",
              "      fill: #D2E3FC;\n",
              "    }\n",
              "\n",
              "    [theme=dark] .colab-df-convert:hover {\n",
              "      background-color: #434B5C;\n",
              "      box-shadow: 0px 1px 3px 1px rgba(0, 0, 0, 0.15);\n",
              "      filter: drop-shadow(0px 1px 2px rgba(0, 0, 0, 0.3));\n",
              "      fill: #FFFFFF;\n",
              "    }\n",
              "  </style>\n",
              "\n",
              "    <script>\n",
              "      const buttonEl =\n",
              "        document.querySelector('#df-27056118-c4ef-4788-a2f5-b55158b559e9 button.colab-df-convert');\n",
              "      buttonEl.style.display =\n",
              "        google.colab.kernel.accessAllowed ? 'block' : 'none';\n",
              "\n",
              "      async function convertToInteractive(key) {\n",
              "        const element = document.querySelector('#df-27056118-c4ef-4788-a2f5-b55158b559e9');\n",
              "        const dataTable =\n",
              "          await google.colab.kernel.invokeFunction('convertToInteractive',\n",
              "                                                    [key], {});\n",
              "        if (!dataTable) return;\n",
              "\n",
              "        const docLinkHtml = 'Like what you see? Visit the ' +\n",
              "          '<a target=\"_blank\" href=https://colab.research.google.com/notebooks/data_table.ipynb>data table notebook</a>'\n",
              "          + ' to learn more about interactive tables.';\n",
              "        element.innerHTML = '';\n",
              "        dataTable['output_type'] = 'display_data';\n",
              "        await google.colab.output.renderOutput(dataTable, element);\n",
              "        const docLink = document.createElement('div');\n",
              "        docLink.innerHTML = docLinkHtml;\n",
              "        element.appendChild(docLink);\n",
              "      }\n",
              "    </script>\n",
              "  </div>\n",
              "\n",
              "\n",
              "<div id=\"df-9468196a-c847-4bf6-8fb8-5dffce0489af\">\n",
              "  <button class=\"colab-df-quickchart\" onclick=\"quickchart('df-9468196a-c847-4bf6-8fb8-5dffce0489af')\"\n",
              "            title=\"Suggest charts\"\n",
              "            style=\"display:none;\">\n",
              "\n",
              "<svg xmlns=\"http://www.w3.org/2000/svg\" height=\"24px\"viewBox=\"0 0 24 24\"\n",
              "     width=\"24px\">\n",
              "    <g>\n",
              "        <path d=\"M19 3H5c-1.1 0-2 .9-2 2v14c0 1.1.9 2 2 2h14c1.1 0 2-.9 2-2V5c0-1.1-.9-2-2-2zM9 17H7v-7h2v7zm4 0h-2V7h2v10zm4 0h-2v-4h2v4z\"/>\n",
              "    </g>\n",
              "</svg>\n",
              "  </button>\n",
              "\n",
              "<style>\n",
              "  .colab-df-quickchart {\n",
              "      --bg-color: #E8F0FE;\n",
              "      --fill-color: #1967D2;\n",
              "      --hover-bg-color: #E2EBFA;\n",
              "      --hover-fill-color: #174EA6;\n",
              "      --disabled-fill-color: #AAA;\n",
              "      --disabled-bg-color: #DDD;\n",
              "  }\n",
              "\n",
              "  [theme=dark] .colab-df-quickchart {\n",
              "      --bg-color: #3B4455;\n",
              "      --fill-color: #D2E3FC;\n",
              "      --hover-bg-color: #434B5C;\n",
              "      --hover-fill-color: #FFFFFF;\n",
              "      --disabled-bg-color: #3B4455;\n",
              "      --disabled-fill-color: #666;\n",
              "  }\n",
              "\n",
              "  .colab-df-quickchart {\n",
              "    background-color: var(--bg-color);\n",
              "    border: none;\n",
              "    border-radius: 50%;\n",
              "    cursor: pointer;\n",
              "    display: none;\n",
              "    fill: var(--fill-color);\n",
              "    height: 32px;\n",
              "    padding: 0;\n",
              "    width: 32px;\n",
              "  }\n",
              "\n",
              "  .colab-df-quickchart:hover {\n",
              "    background-color: var(--hover-bg-color);\n",
              "    box-shadow: 0 1px 2px rgba(60, 64, 67, 0.3), 0 1px 3px 1px rgba(60, 64, 67, 0.15);\n",
              "    fill: var(--button-hover-fill-color);\n",
              "  }\n",
              "\n",
              "  .colab-df-quickchart-complete:disabled,\n",
              "  .colab-df-quickchart-complete:disabled:hover {\n",
              "    background-color: var(--disabled-bg-color);\n",
              "    fill: var(--disabled-fill-color);\n",
              "    box-shadow: none;\n",
              "  }\n",
              "\n",
              "  .colab-df-spinner {\n",
              "    border: 2px solid var(--fill-color);\n",
              "    border-color: transparent;\n",
              "    border-bottom-color: var(--fill-color);\n",
              "    animation:\n",
              "      spin 1s steps(1) infinite;\n",
              "  }\n",
              "\n",
              "  @keyframes spin {\n",
              "    0% {\n",
              "      border-color: transparent;\n",
              "      border-bottom-color: var(--fill-color);\n",
              "      border-left-color: var(--fill-color);\n",
              "    }\n",
              "    20% {\n",
              "      border-color: transparent;\n",
              "      border-left-color: var(--fill-color);\n",
              "      border-top-color: var(--fill-color);\n",
              "    }\n",
              "    30% {\n",
              "      border-color: transparent;\n",
              "      border-left-color: var(--fill-color);\n",
              "      border-top-color: var(--fill-color);\n",
              "      border-right-color: var(--fill-color);\n",
              "    }\n",
              "    40% {\n",
              "      border-color: transparent;\n",
              "      border-right-color: var(--fill-color);\n",
              "      border-top-color: var(--fill-color);\n",
              "    }\n",
              "    60% {\n",
              "      border-color: transparent;\n",
              "      border-right-color: var(--fill-color);\n",
              "    }\n",
              "    80% {\n",
              "      border-color: transparent;\n",
              "      border-right-color: var(--fill-color);\n",
              "      border-bottom-color: var(--fill-color);\n",
              "    }\n",
              "    90% {\n",
              "      border-color: transparent;\n",
              "      border-bottom-color: var(--fill-color);\n",
              "    }\n",
              "  }\n",
              "</style>\n",
              "\n",
              "  <script>\n",
              "    async function quickchart(key) {\n",
              "      const quickchartButtonEl =\n",
              "        document.querySelector('#' + key + ' button');\n",
              "      quickchartButtonEl.disabled = true;  // To prevent multiple clicks.\n",
              "      quickchartButtonEl.classList.add('colab-df-spinner');\n",
              "      try {\n",
              "        const charts = await google.colab.kernel.invokeFunction(\n",
              "            'suggestCharts', [key], {});\n",
              "      } catch (error) {\n",
              "        console.error('Error during call to suggestCharts:', error);\n",
              "      }\n",
              "      quickchartButtonEl.classList.remove('colab-df-spinner');\n",
              "      quickchartButtonEl.classList.add('colab-df-quickchart-complete');\n",
              "    }\n",
              "    (() => {\n",
              "      let quickchartButtonEl =\n",
              "        document.querySelector('#df-9468196a-c847-4bf6-8fb8-5dffce0489af button');\n",
              "      quickchartButtonEl.style.display =\n",
              "        google.colab.kernel.accessAllowed ? 'block' : 'none';\n",
              "    })();\n",
              "  </script>\n",
              "</div>\n",
              "    </div>\n",
              "  </div>\n"
            ],
            "application/vnd.google.colaboratory.intrinsic+json": {
              "type": "dataframe",
              "variable_name": "features_df",
              "summary": "{\n  \"name\": \"features_df\",\n  \"rows\": 365,\n  \"fields\": [\n    {\n      \"column\": \"mean_deviation\",\n      \"properties\": {\n        \"dtype\": \"number\",\n        \"std\": 8.377898009501266e-16,\n        \"min\": -2.3776953560401742e-15,\n        \"max\": 3.1296520145758476e-15,\n        \"num_unique_values\": 365,\n        \"samples\": [\n          3.282372503241944e-16,\n          -4.785535690418452e-16,\n          1.5811176192139167e-15\n        ],\n        \"semantic_type\": \"\",\n        \"description\": \"\"\n      }\n    },\n    {\n      \"column\": \"std_deviation\",\n      \"properties\": {\n        \"dtype\": \"number\",\n        \"std\": 2.0895557622802072,\n        \"min\": 4.423206706946268,\n        \"max\": 15.912193021319169,\n        \"num_unique_values\": 365,\n        \"samples\": [\n          9.639359502023625,\n          7.353143741942877,\n          10.278611159756826\n        ],\n        \"semantic_type\": \"\",\n        \"description\": \"\"\n      }\n    },\n    {\n      \"column\": \"max_deviation\",\n      \"properties\": {\n        \"dtype\": \"number\",\n        \"std\": 17.65883589571558,\n        \"min\": 36.45309132962348,\n        \"max\": 106.97397237715239,\n        \"num_unique_values\": 365,\n        \"samples\": [\n          52.35014976024887,\n          89.6569404609064,\n          70.51647505479168\n        ],\n        \"semantic_type\": \"\",\n        \"description\": \"\"\n      }\n    },\n    {\n      \"column\": \"min_deviation\",\n      \"properties\": {\n        \"dtype\": \"number\",\n        \"std\": 15.478345216473127,\n        \"min\": -110.7714649531072,\n        \"max\": -30.18345883520439,\n        \"num_unique_values\": 365,\n        \"samples\": [\n          -55.707680680056285,\n          -79.26082673934121,\n          -87.31335582711367\n        ],\n        \"semantic_type\": \"\",\n        \"description\": \"\"\n      }\n    },\n    {\n      \"column\": \"Age\",\n      \"properties\": {\n        \"dtype\": \"number\",\n        \"std\": 10.296534941372492,\n        \"min\": 36.702777777777776,\n        \"max\": 88.625,\n        \"num_unique_values\": 353,\n        \"samples\": [\n          50.90277777777778,\n          66.63888888888889,\n          47.355555555555554\n        ],\n        \"semantic_type\": \"\",\n        \"description\": \"\"\n      }\n    },\n    {\n      \"column\": \"IsMale_False\",\n      \"properties\": {\n        \"dtype\": \"number\",\n        \"std\": 0.47952194067125564,\n        \"min\": 0.0,\n        \"max\": 1.0,\n        \"num_unique_values\": 2,\n        \"samples\": [\n          1.0,\n          0.0\n        ],\n        \"semantic_type\": \"\",\n        \"description\": \"\"\n      }\n    },\n    {\n      \"column\": \"IsMale_True\",\n      \"properties\": {\n        \"dtype\": \"number\",\n        \"std\": 0.47952194067125564,\n        \"min\": 0.0,\n        \"max\": 1.0,\n        \"num_unique_values\": 2,\n        \"samples\": [\n          0.0,\n          1.0\n        ],\n        \"semantic_type\": \"\",\n        \"description\": \"\"\n      }\n    },\n    {\n      \"column\": \"Hx_HTN_False\",\n      \"properties\": {\n        \"dtype\": \"number\",\n        \"std\": 0.0,\n        \"min\": 1.0,\n        \"max\": 1.0,\n        \"num_unique_values\": 1,\n        \"samples\": [\n          1.0\n        ],\n        \"semantic_type\": \"\",\n        \"description\": \"\"\n      }\n    },\n    {\n      \"column\": \"HxCVD_False\",\n      \"properties\": {\n        \"dtype\": \"number\",\n        \"std\": 0.49837912800504625,\n        \"min\": 0.0,\n        \"max\": 1.0,\n        \"num_unique_values\": 2,\n        \"samples\": [\n          1.0\n        ],\n        \"semantic_type\": \"\",\n        \"description\": \"\"\n      }\n    },\n    {\n      \"column\": \"HxCVD_True\",\n      \"properties\": {\n        \"dtype\": \"number\",\n        \"std\": 0.49837912800504625,\n        \"min\": 0.0,\n        \"max\": 1.0,\n        \"num_unique_values\": 2,\n        \"samples\": [\n          0.0\n        ],\n        \"semantic_type\": \"\",\n        \"description\": \"\"\n      }\n    },\n    {\n      \"column\": \"DM_False\",\n      \"properties\": {\n        \"dtype\": \"number\",\n        \"std\": 0.45948285272293865,\n        \"min\": 0.0,\n        \"max\": 1.0,\n        \"num_unique_values\": 2,\n        \"samples\": [\n          1.0\n        ],\n        \"semantic_type\": \"\",\n        \"description\": \"\"\n      }\n    },\n    {\n      \"column\": \"DM_True\",\n      \"properties\": {\n        \"dtype\": \"number\",\n        \"std\": 0.45948285272293865,\n        \"min\": 0.0,\n        \"max\": 1.0,\n        \"num_unique_values\": 2,\n        \"samples\": [\n          0.0\n        ],\n        \"semantic_type\": \"\",\n        \"description\": \"\"\n      }\n    },\n    {\n      \"column\": \"HxSmoke_False\",\n      \"properties\": {\n        \"dtype\": \"number\",\n        \"std\": 0.48033745476497863,\n        \"min\": 0.0,\n        \"max\": 1.0,\n        \"num_unique_values\": 2,\n        \"samples\": [\n          1.0\n        ],\n        \"semantic_type\": \"\",\n        \"description\": \"\"\n      }\n    },\n    {\n      \"column\": \"HxSmoke_True\",\n      \"properties\": {\n        \"dtype\": \"number\",\n        \"std\": 0.48033745476497863,\n        \"min\": 0.0,\n        \"max\": 1.0,\n        \"num_unique_values\": 2,\n        \"samples\": [\n          0.0\n        ],\n        \"semantic_type\": \"\",\n        \"description\": \"\"\n      }\n    },\n    {\n      \"column\": \"HxStroke_False\",\n      \"properties\": {\n        \"dtype\": \"number\",\n        \"std\": 0.23318023980611638,\n        \"min\": 0.0,\n        \"max\": 1.0,\n        \"num_unique_values\": 2,\n        \"samples\": [\n          0.0\n        ],\n        \"semantic_type\": \"\",\n        \"description\": \"\"\n      }\n    },\n    {\n      \"column\": \"HxStroke_True\",\n      \"properties\": {\n        \"dtype\": \"number\",\n        \"std\": 0.23318023980611638,\n        \"min\": 0.0,\n        \"max\": 1.0,\n        \"num_unique_values\": 2,\n        \"samples\": [\n          1.0\n        ],\n        \"semantic_type\": \"\",\n        \"description\": \"\"\n      }\n    },\n    {\n      \"column\": \"HxCOPD_False\",\n      \"properties\": {\n        \"dtype\": \"number\",\n        \"std\": 0.2664997721507002,\n        \"min\": 0.0,\n        \"max\": 1.0,\n        \"num_unique_values\": 2,\n        \"samples\": [\n          0.0\n        ],\n        \"semantic_type\": \"\",\n        \"description\": \"\"\n      }\n    },\n    {\n      \"column\": \"HxCOPD_True\",\n      \"properties\": {\n        \"dtype\": \"number\",\n        \"std\": 0.2664997721507002,\n        \"min\": 0.0,\n        \"max\": 1.0,\n        \"num_unique_values\": 2,\n        \"samples\": [\n          1.0\n        ],\n        \"semantic_type\": \"\",\n        \"description\": \"\"\n      }\n    }\n  ]\n}"
            }
          },
          "metadata": {},
          "execution_count": 14
        }
      ]
    },
    {
      "cell_type": "markdown",
      "source": [
        "## Train Model and Evaluate Performance"
      ],
      "metadata": {
        "id": "MuQmV5O48gir"
      }
    },
    {
      "cell_type": "code",
      "source": [
        "# Prepare feature matrix (X) and target variable (y)\n",
        "X = features_df\n",
        "y = target\n",
        "\n",
        "# Split the data into training+validation and test sets (e.g., 80% train+validation, 20% test)\n",
        "X_train_val, X_test, y_train_val, y_test = train_test_split(X, y, test_size=0.2, random_state=42)\n",
        "\n",
        "# Further split the training+validation set into training and validation sets (e.g., 75% train, 25% validation)\n",
        "X_train, X_val, y_train, y_val = train_test_split(X_train_val, y_train_val, test_size=0.25, random_state=42)  # 0.25 x 0.8 = 0.2\n",
        "\n",
        "# Define the parameter grid for CatBoost\n",
        "param_grid = {\n",
        "    'iterations': [100, 200, 300, 400, 500],\n",
        "    'depth': [4, 5, 6, 7, 8],\n",
        "    'learning_rate': [0.01, 0.03, 0.1, 0.3],\n",
        "    'l2_leaf_reg': [1, 3, 5, 7, 9],\n",
        "    'border_count': [32, 50, 100]\n",
        "}\n",
        "\n",
        "# Initialize the CatBoost Regressor\n",
        "catboost_model = CatBoostRegressor(silent=True)\n",
        "\n",
        "# Initialize RandomizedSearchCV\n",
        "random_search = RandomizedSearchCV(\n",
        "    estimator=catboost_model,\n",
        "    param_distributions=param_grid,\n",
        "    n_iter=50,  # Number of parameter settings that are sampled\n",
        "    scoring='neg_mean_absolute_error',  # Objective function\n",
        "    cv=3,  # Number of cross-validation folds\n",
        "    verbose=1,\n",
        "    random_state=42,\n",
        "    n_jobs=-1  # Use all available cores\n",
        ")\n",
        "\n",
        "# Perform the random search\n",
        "random_search.fit(X_train, y_train)\n",
        "\n",
        "# Print the best parameters and the corresponding score\n",
        "print(f\"Best parameters found: {random_search.best_params_}\")\n",
        "print(f\"Best MAE: {-random_search.best_score_}\")\n",
        "\n",
        "# Train the model with the best parameters on the full training data\n",
        "best_params = random_search.best_params_\n",
        "model = CatBoostRegressor(**best_params, silent=True)\n",
        "model.fit(X_train, y_train)"
      ],
      "metadata": {
        "colab": {
          "base_uri": "https://localhost:8080/"
        },
        "id": "N0-iqhL74o3Y",
        "outputId": "23a49f04-3796-44ff-d983-15dc2a34dd1e"
      },
      "execution_count": null,
      "outputs": [
        {
          "output_type": "stream",
          "name": "stdout",
          "text": [
            "Fitting 3 folds for each of 50 candidates, totalling 150 fits\n",
            "Best parameters found: {'learning_rate': 0.1, 'l2_leaf_reg': 1, 'iterations': 500, 'depth': 7, 'border_count': 100}\n",
            "Best MAE: 2.77766147230021\n"
          ]
        },
        {
          "output_type": "execute_result",
          "data": {
            "text/plain": [
              "<catboost.core.CatBoostRegressor at 0x7f618ac2aa40>"
            ]
          },
          "metadata": {},
          "execution_count": 16
        }
      ]
    },
    {
      "cell_type": "code",
      "source": [
        "y_pred = model.predict(X_train)\n",
        "plt.scatter(y_train, y_pred, label=\"training\")\n",
        "mae = mean_absolute_error(y_pred, y_train)\n",
        "print(f\"MAE for predictions on training dataset {mae}\" )\n",
        "\n",
        "y_pred = model.predict(X_val)\n",
        "plt.scatter(y_val, y_pred, label=\"validation\")\n",
        "mae = mean_absolute_error(y_pred , y_val)\n",
        "print(f\"MAE for predictions on validation dataset {mae}\")\n",
        "\n",
        "y_pred = model.predict(X_test)\n",
        "plt.scatter(y_test, y_pred, label=\"testing\")\n",
        "mae = mean_absolute_error(y_pred , y_test)\n",
        "\n",
        "\n",
        "print(f\"MAE for predictions on testing {mae}\")\n",
        "plt.title(\"Actual vs Predicted\")\n",
        "plt.legend()\n",
        "plt.axis('equal')"
      ],
      "metadata": {
        "colab": {
          "base_uri": "https://localhost:8080/",
          "height": 521
        },
        "id": "1JelbC6hIe2Z",
        "outputId": "03145443-68b2-4066-fd14-05a5d6af0c7b"
      },
      "execution_count": null,
      "outputs": [
        {
          "output_type": "stream",
          "name": "stdout",
          "text": [
            "MAE for predictions on training dataset 0.006988987190125176\n",
            "MAE for predictions on validation dataset 2.8406647411490726\n",
            "MAE for predictions on testing 3.0330642884652\n"
          ]
        },
        {
          "output_type": "execute_result",
          "data": {
            "text/plain": [
              "(3.0, 25.0, 3.057180136244788, 23.92755705574474)"
            ]
          },
          "metadata": {},
          "execution_count": 17
        },
        {
          "output_type": "display_data",
          "data": {
            "text/plain": [
              "<Figure size 640x480 with 1 Axes>"
            ],
            "image/png": "[encoded data removed]"
          },
          "metadata": {}
        }
      ]
    },
    {
      "cell_type": "code",
      "source": [
        "feature_importances = model.get_feature_importance(Pool(X_train, y_train))\n",
        "\n",
        "# Sort features by importance\n",
        "sorted_indices = np.argsort(feature_importances)[::-1]\n",
        "\n",
        "# Create a barplot\n",
        "plt.figure(figsize=(10, 6))\n",
        "plt.barh(range(len(feature_importances)), feature_importances[sorted_indices], align='center')\n",
        "plt.yticks(range(len(feature_importances)), np.array(X_train.columns)[sorted_indices], rotation=0)\n",
        "plt.xlabel('Importance Score')\n",
        "plt.ylabel('Features')\n",
        "plt.title('Feature Importance')\n",
        "plt.show()"
      ],
      "metadata": {
        "colab": {
          "base_uri": "https://localhost:8080/",
          "height": 564
        },
        "id": "hJ2ssmjT8tRr",
        "outputId": "da22797a-4760-4e84-d146-798ca12e69f0"
      },
      "execution_count": null,
      "outputs": [
        {
          "output_type": "display_data",
          "data": {
            "text/plain": [
              "<Figure size 1000x600 with 1 Axes>"
            ],
            "image/png": "[encoded data removed]"
          },
          "metadata": {}
        }
      ]
    }
  ]
}